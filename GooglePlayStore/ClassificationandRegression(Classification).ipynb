{
 "cells": [
  {
   "cell_type": "code",
   "execution_count": 1,
   "metadata": {},
   "outputs": [],
   "source": [
    "import pandas as pd\n",
    "import numpy as np \n",
    "from sklearn.model_selection import train_test_split\n",
    "import matplotlib.pyplot as plt\n",
    "from IPython.display import Image "
   ]
  },
  {
   "cell_type": "code",
   "execution_count": 2,
   "metadata": {},
   "outputs": [
    {
     "name": "stdout",
     "output_type": "stream",
     "text": [
      "App                object\n",
      "Category           object\n",
      "Rating            float64\n",
      "Reviews            object\n",
      "Size               object\n",
      "Installs           object\n",
      "Type               object\n",
      "Price              object\n",
      "Content Rating     object\n",
      "Genres             object\n",
      "Last Updated       object\n",
      "Current Ver        object\n",
      "Android Ver        object\n",
      "dtype: object\n"
     ]
    }
   ],
   "source": [
    "playstoredata = pd.read_csv('googleplaystore.csv')\n",
    "playstoredata.head()\n",
    "print(playstoredata.dtypes)"
   ]
  },
  {
   "cell_type": "code",
   "execution_count": 3,
   "metadata": {},
   "outputs": [
    {
     "name": "stdout",
     "output_type": "stream",
     "text": [
      "App                  0\n",
      "Category             0\n",
      "Rating            1474\n",
      "Reviews              0\n",
      "Size                 0\n",
      "Installs             0\n",
      "Type                 1\n",
      "Price                0\n",
      "Content Rating       1\n",
      "Genres               0\n",
      "Last Updated         0\n",
      "Current Ver          8\n",
      "Android Ver          3\n",
      "dtype: int64\n"
     ]
    }
   ],
   "source": [
    "print(playstoredata.isnull().sum())\n"
   ]
  },
  {
   "cell_type": "code",
   "execution_count": 4,
   "metadata": {},
   "outputs": [],
   "source": [
    "\n",
    "playstoredata.dropna(axis =0,inplace = True)\n",
    "\n"
   ]
  },
  {
   "cell_type": "code",
   "execution_count": 5,
   "metadata": {},
   "outputs": [],
   "source": [
    "def Install(installs):\n",
    "    installs = installs.strip('+')\n",
    "    installs = installs.replace(',','')\n",
    "    return int(installs)\n"
   ]
  },
  {
   "cell_type": "code",
   "execution_count": 6,
   "metadata": {},
   "outputs": [],
   "source": [
    "playstoredata['Installs'] = playstoredata['Installs'].apply(lambda ins:Install(ins))\n",
    "playstoredata.dropna(axis =0,inplace = True)"
   ]
  },
  {
   "cell_type": "code",
   "execution_count": 7,
   "metadata": {},
   "outputs": [],
   "source": [
    "def Size(size):\n",
    "    if  'M' in size:\n",
    "        size =size.replace('M','')\n",
    "        size = float(size) * 1048576\n",
    "        return(size)\n",
    "    elif 'k' in size:\n",
    "        size = size.replace('k','')\n",
    "        size = float(size) * 1024\n",
    "        return(size)\n",
    "    else:\n",
    "        return None\n",
    "\n"
   ]
  },
  {
   "cell_type": "code",
   "execution_count": 8,
   "metadata": {},
   "outputs": [],
   "source": [
    "playstoredata['Size'] = playstoredata['Size'].apply(lambda siz: Size(siz))\n",
    "playstoredata.dropna(axis =0,inplace = True)"
   ]
  },
  {
   "cell_type": "code",
   "execution_count": 9,
   "metadata": {},
   "outputs": [],
   "source": [
    "category = pd.get_dummies(playstoredata['Category'],prefix='Ct')\n",
    "Type = pd.get_dummies(playstoredata['Type'],prefix='ty')\n",
    "content_rating = pd.get_dummies(playstoredata['Content Rating'],prefix='Cr')\n",
    "Geners_rating = pd.get_dummies(playstoredata['Genres'],prefix = 'Grs')\n"
   ]
  },
  {
   "cell_type": "code",
   "execution_count": 10,
   "metadata": {},
   "outputs": [],
   "source": [
    "playstoredata['Rating'] = playstoredata['Rating'].apply(lambda rat:round(rat))"
   ]
  },
  {
   "cell_type": "code",
   "execution_count": 11,
   "metadata": {},
   "outputs": [
    {
     "name": "stdout",
     "output_type": "stream",
     "text": [
      "4    5399\n",
      "5    1638\n",
      "3     540\n",
      "2     126\n",
      "1      20\n",
      "Name: Rating, dtype: int64\n"
     ]
    }
   ],
   "source": [
    "print(playstoredata['Rating'].value_counts())"
   ]
  },
  {
   "cell_type": "code",
   "execution_count": 12,
   "metadata": {},
   "outputs": [],
   "source": [
    "Target = playstoredata['Rating'].values\n",
    "Reviews = playstoredata['Reviews']\n",
    "Installs = playstoredata['Installs']\n",
    "\n",
    "final_df = [category,Type,content_rating,Geners_rating,Reviews,Installs]\n",
    "Concated_df = pd.concat(final_df,axis =1)\n"
   ]
  },
  {
   "cell_type": "code",
   "execution_count": 13,
   "metadata": {},
   "outputs": [
    {
     "name": "stdout",
     "output_type": "stream",
     "text": [
      "(7723, 155)\n"
     ]
    }
   ],
   "source": [
    "print(Concated_df.shape)\n"
   ]
  },
  {
   "cell_type": "code",
   "execution_count": 14,
   "metadata": {},
   "outputs": [],
   "source": [
    "from sklearn.preprocessing import MinMaxScaler\n",
    "MinMScaler = MinMaxScaler()\n",
    "transoformed_df = MinMScaler.fit_transform(Concated_df)"
   ]
  },
  {
   "cell_type": "code",
   "execution_count": 15,
   "metadata": {},
   "outputs": [],
   "source": [
    "CX_train,CX_test,Cy_train,Cy_test = train_test_split(transoformed_df,Target,random_state = 3,test_size = 0.2)"
   ]
  },
  {
   "cell_type": "code",
   "execution_count": 16,
   "metadata": {},
   "outputs": [
    {
     "name": "stderr",
     "output_type": "stream",
     "text": [
      "c:\\users\\user 38\\appdata\\local\\programs\\python\\python37\\lib\\site-packages\\sklearn\\externals\\six.py:31: FutureWarning: The module is deprecated in version 0.21 and will be removed in version 0.23 since we've dropped support for Python 2.7. Please rely on the official version of six (https://pypi.org/project/six/).\n",
      "  \"(https://pypi.org/project/six/).\", FutureWarning)\n"
     ]
    }
   ],
   "source": [
    "\n",
    "from sklearn.tree import DecisionTreeClassifier\n",
    "from sklearn.ensemble import RandomForestClassifier\n",
    "from sklearn.metrics import accuracy_score\n",
    "import graphviz \n",
    "from sklearn import tree\n",
    "from sklearn.model_selection import cross_val_score, cross_val_predict\n",
    "from sklearn import metrics\n",
    "\n",
    "from sklearn.tree import export_graphviz\n",
    "from sklearn.externals.six import StringIO  \n",
    "import pydotplus\n"
   ]
  },
  {
   "cell_type": "code",
   "execution_count": 22,
   "metadata": {},
   "outputs": [],
   "source": [
    "import os\n",
    "featurenames = Concated_df.columns\n",
    "os.environ[\"PATH\"] += os.pathsep + 'C:\\\\Program Files (x86)\\\\Graphviz2.38\\\\bin'"
   ]
  },
  {
   "cell_type": "code",
   "execution_count": 72,
   "metadata": {},
   "outputs": [],
   "source": [
    "DecisionTree = DecisionTreeClassifier(criterion='entropy')\n",
    "DecisionTree.fit(CX_train,Cy_train)\n",
    "DecisionTree_Preds = DecisionTree.predict(CX_test)"
   ]
  },
  {
   "cell_type": "code",
   "execution_count": 25,
   "metadata": {},
   "outputs": [
    {
     "data": {
      "text/plain": [
       "0.6614886731391586"
      ]
     },
     "execution_count": 25,
     "metadata": {},
     "output_type": "execute_result"
    }
   ],
   "source": [
    "accuracy_score(Cy_test,DecisionTree_Preds)"
   ]
  },
  {
   "cell_type": "code",
   "execution_count": 58,
   "metadata": {},
   "outputs": [],
   "source": [
    "dot_data = StringIO()"
   ]
  },
  {
   "cell_type": "code",
   "execution_count": 66,
   "metadata": {},
   "outputs": [],
   "source": [
    "import graphviz \n",
    "from sklearn import tree\n",
    "dotdata = tree.export_graphviz(DecisionTree, out_file=None,feature_names = Concated_df.columns,class_names=['1','2','3','4','5']) \n",
    "graph = graphviz.Source(dotdata) \n",
    "graph.render('Decision')"
   ]
  },
  {
   "cell_type": "code",
   "execution_count": 39,
   "metadata": {},
   "outputs": [
    {
     "data": {
      "text/plain": [
       "0.6912621359223301"
      ]
     },
     "execution_count": 39,
     "metadata": {},
     "output_type": "execute_result"
    }
   ],
   "source": [
    "RadndomClassifier = RandomForestClassifier()\n",
    "RadndomClassifier.fit(CX_train,Cy_train)\n",
    "Random_preds = RadndomClassifier.predict(CX_test)\n",
    "accuracy_score(Cy_test,Random_preds)\n"
   ]
  },
  {
   "cell_type": "code",
   "execution_count": 40,
   "metadata": {},
   "outputs": [
    {
     "data": {
      "text/plain": [
       "0.7190938511326861"
      ]
     },
     "execution_count": 40,
     "metadata": {},
     "output_type": "execute_result"
    }
   ],
   "source": [
    "RandomCls = RandomForestClassifier(n_estimators=1000,ccp_alpha=1)\n",
    "RandomCls.fit(CX_train,Cy_train)\n",
    "RandomCls_preds = RandomCls.predict(CX_test)\n",
    "accuracy_score(Cy_test,RandomCls_preds)"
   ]
  },
  {
   "cell_type": "code",
   "execution_count": 43,
   "metadata": {},
   "outputs": [
    {
     "data": {
      "text/plain": [
       "0.7190938511326861"
      ]
     },
     "execution_count": 43,
     "metadata": {},
     "output_type": "execute_result"
    }
   ],
   "source": [
    "\n",
    "DTCost = DecisionTreeClassifier(max_depth=6 ,ccp_alpha =1,criterion='entropy')\n",
    "DTCost.fit(CX_train,Cy_train)\n",
    "DTcost_pred = DTCost.predict(CX_test)\n",
    "accuracy_score(Cy_test,DTcost_pred)\n"
   ]
  },
  {
   "cell_type": "code",
   "execution_count": 44,
   "metadata": {},
   "outputs": [
    {
     "name": "stderr",
     "output_type": "stream",
     "text": [
      "c:\\users\\user 38\\appdata\\local\\programs\\python\\python37\\lib\\site-packages\\sklearn\\model_selection\\_split.py:296: FutureWarning: Setting a random_state has no effect since shuffle is False. This will raise an error in 0.24. You should leave random_state to its default (None), or set shuffle=True.\n",
      "  FutureWarning\n"
     ]
    }
   ],
   "source": [
    "from sklearn.model_selection import KFold \n",
    "kfold = KFold(n_splits=5, random_state=2) \n",
    "\n",
    "\n",
    "for trainindex, testindex in kfold.split(transoformed_df):\n",
    "    cv_CX_train, cv_CX_test = transoformed_df[trainindex], transoformed_df[testindex]\n",
    "    cv_Cy_train, cv_Cy_test = Target[trainindex], Target[testindex]\n"
   ]
  },
  {
   "cell_type": "code",
   "execution_count": 45,
   "metadata": {},
   "outputs": [
    {
     "data": {
      "text/plain": [
       "0.6055699481865285"
      ]
     },
     "execution_count": 45,
     "metadata": {},
     "output_type": "execute_result"
    }
   ],
   "source": [
    "DClassifier = DecisionTreeClassifier(criterion='entropy')\n",
    "DClassifier.fit(cv_CX_train,cv_Cy_train)\n",
    "cv_Tree_preds = DClassifier.predict(cv_CX_test)\n",
    "accuracy_score(cv_Cy_test,cv_Tree_preds)\n"
   ]
  },
  {
   "cell_type": "code",
   "execution_count": 46,
   "metadata": {},
   "outputs": [
    {
     "data": {
      "text/plain": [
       "0.6813471502590673"
      ]
     },
     "execution_count": 46,
     "metadata": {},
     "output_type": "execute_result"
    }
   ],
   "source": [
    "DCler = DecisionTreeClassifier(criterion='entropy',max_depth=5 ,ccp_alpha =1)\n",
    "DCler.fit(cv_CX_train,cv_Cy_train)\n",
    "DClr_preds = DCler.predict(cv_CX_test)\n",
    "accuracy_score(cv_Cy_test,DClr_preds)\n"
   ]
  }
 ],
 "metadata": {
  "kernelspec": {
   "display_name": "Python 3",
   "language": "python",
   "name": "python3"
  },
  "language_info": {
   "codemirror_mode": {
    "name": "ipython",
    "version": 3
   },
   "file_extension": ".py",
   "mimetype": "text/x-python",
   "name": "python",
   "nbconvert_exporter": "python",
   "pygments_lexer": "ipython3",
   "version": "3.7.6"
  }
 },
 "nbformat": 4,
 "nbformat_minor": 4
}
